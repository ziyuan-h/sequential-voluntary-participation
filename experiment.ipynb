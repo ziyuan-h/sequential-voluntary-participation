{
 "cells": [
  {
   "cell_type": "code",
   "id": "initial_id",
   "metadata": {
    "collapsed": true,
    "ExecuteTime": {
     "end_time": "2025-09-21T01:33:57.827849Z",
     "start_time": "2025-09-21T01:33:56.933368Z"
    }
   },
   "source": [
    "from experiment import compare_taxes\n",
    "from util import generate_random_symmetric_binary_matrix, draw_network\n",
    "from linear_quadratic import LinearQuadraticGame\n",
    "\n",
    "import numpy as np"
   ],
   "outputs": [],
   "execution_count": 1
  },
  {
   "metadata": {},
   "cell_type": "markdown",
   "source": [
    "Chain topology:\n",
    "* N = 6: opt = (5, 0, 2, 4, 1, 3); pivot = (5, 0, 4, 1, 3, 2).\n",
    "* N = 9: opt = (8, 0, 5, 3, 1, 7, 2, 6, 4); pivot = (0, 8, 1, 7, 2, 6, 5, 3, 4).\n",
    "\n",
    "Star topology:\n"
   ],
   "id": "67e24c01975b1d4e"
  },
  {
   "metadata": {
    "ExecuteTime": {
     "end_time": "2025-09-21T01:34:03.416608Z",
     "start_time": "2025-09-21T01:34:03.407858Z"
    }
   },
   "cell_type": "code",
   "source": [
    "N = 9\n",
    "# g = generate_random_symmetric_binary_matrix(N, 0.5)\n",
    "# g = np.array([\n",
    "#  [0, 1, 1, 1, 1, 1],\n",
    "#  [1, 0, 0, 0, 0, 0],\n",
    "#  [1, 0, 0, 0, 0, 0],\n",
    "#  [1, 0, 0, 0, 0, 0],\n",
    "#  [1, 0, 0, 0, 0, 0],\n",
    "#  [1, 0, 0, 0, 0, 0]])\n",
    "\n",
    "# g = np.array([\n",
    "#  [0, 1, 0, 1, 1, 0, 1, 0],\n",
    "#  [1, 0, 1, 0, 1, 0, 0, 0],\n",
    "#  [0, 1, 0, 0, 0, 0, 0, 1],\n",
    "#  [1, 0, 0, 0, 0, 0, 0, 0],\n",
    "#  [1, 1, 0, 0, 0, 0, 1, 1],\n",
    "#  [0, 0, 0, 0, 0, 0, 0, 1],\n",
    "#  [1, 0, 0, 0, 1, 0, 0, 0],\n",
    "#  [0, 0, 1, 0, 1, 1, 0, 0]])\n",
    "\n",
    "# Chain topology\n",
    "g = np.zeros((N, N))\n",
    "g[list(range(N-1)), list(range(1, N))] = 1\n",
    "g[list(range(1, N)), list(range(N-1))] = 1\n",
    "#\n",
    "# # Star topology\n",
    "# g = np.zeros((N, N))\n",
    "# g[0,1:] = 1\n",
    "# g[1:,0] = 1\n",
    "\n",
    "# g = np.ones((N, N))\n",
    "np.fill_diagonal(g, 0)\n",
    "\n",
    "print(g)"
   ],
   "id": "a14f669fd91354f5",
   "outputs": [
    {
     "name": "stdout",
     "output_type": "stream",
     "text": [
      "[[0. 1. 0. 0. 0. 0. 0. 0. 0.]\n",
      " [1. 0. 1. 0. 0. 0. 0. 0. 0.]\n",
      " [0. 1. 0. 1. 0. 0. 0. 0. 0.]\n",
      " [0. 0. 1. 0. 1. 0. 0. 0. 0.]\n",
      " [0. 0. 0. 1. 0. 1. 0. 0. 0.]\n",
      " [0. 0. 0. 0. 1. 0. 1. 0. 0.]\n",
      " [0. 0. 0. 0. 0. 1. 0. 1. 0.]\n",
      " [0. 0. 0. 0. 0. 0. 1. 0. 1.]\n",
      " [0. 0. 0. 0. 0. 0. 0. 1. 0.]]\n"
     ]
    }
   ],
   "execution_count": 2
  },
  {
   "metadata": {
    "ExecuteTime": {
     "end_time": "2025-09-21T04:14:41.421669Z",
     "start_time": "2025-09-21T04:12:42.293105Z"
    }
   },
   "cell_type": "code",
   "source": [
    "phi = .1\n",
    "# alpha = np.random.rand(N)\n",
    "alpha = np.ones(N)\n",
    "result = compare_taxes(alpha, phi, g, \"greedy\")\n",
    "alpha, result"
   ],
   "id": "1d1893cc64a54beb",
   "outputs": [
    {
     "name": "stdout",
     "output_type": "stream",
     "text": [
      "# Positive perms find: 362880 (0, 1, 2, 3, 4, 5, 6, 7, 8)\n",
      "# Negative perms find: 0 None\n"
     ]
    },
    {
     "data": {
      "text/plain": [
       "(array([1., 1., 1., 1., 1., 1., 1., 1., 1.]),\n",
       " {'opt': np.float64(0.09213460759423986),\n",
       "  'optimal_rank': [(0, 8, 3, 5, 1, 7, 2, 6, 4),\n",
       "   (0, 8, 3, 5, 1, 7, 6, 2, 4),\n",
       "   (0, 8, 3, 5, 7, 1, 2, 6, 4),\n",
       "   (0, 8, 3, 5, 7, 1, 6, 2, 4),\n",
       "   (0, 8, 5, 3, 1, 7, 2, 6, 4),\n",
       "   (0, 8, 5, 3, 1, 7, 6, 2, 4),\n",
       "   (0, 8, 5, 3, 7, 1, 2, 6, 4),\n",
       "   (0, 8, 5, 3, 7, 1, 6, 2, 4),\n",
       "   (0, 8, 5, 7, 3, 1, 2, 6, 4),\n",
       "   (0, 8, 5, 7, 3, 1, 6, 2, 4),\n",
       "   (8, 0, 3, 1, 5, 7, 2, 6, 4),\n",
       "   (8, 0, 3, 1, 5, 7, 6, 2, 4),\n",
       "   (8, 0, 3, 5, 1, 7, 2, 6, 4),\n",
       "   (8, 0, 3, 5, 1, 7, 6, 2, 4),\n",
       "   (8, 0, 3, 5, 7, 1, 2, 6, 4),\n",
       "   (8, 0, 3, 5, 7, 1, 6, 2, 4),\n",
       "   (8, 0, 5, 3, 1, 7, 2, 6, 4),\n",
       "   (8, 0, 5, 3, 1, 7, 6, 2, 4),\n",
       "   (8, 0, 5, 3, 7, 1, 2, 6, 4),\n",
       "   (8, 0, 5, 3, 7, 1, 6, 2, 4),\n",
       "   (8, 0, 5, 7, 3, 1, 2, 6, 4),\n",
       "   (8, 0, 5, 7, 3, 1, 6, 2, 4)],\n",
       "  'test': np.float64(0.09007836165839223),\n",
       "  'seq_tax_by_test': array([ 0.02802773, -0.01852812,  0.04449257, -0.03587137,  0.04775201,\n",
       "         -0.02660944,  0.00701101,  0.01577624,  0.02802773]),\n",
       "  'network': array([[0., 1., 0., 0., 0., 0., 0., 0., 0.],\n",
       "         [1., 0., 1., 0., 0., 0., 0., 0., 0.],\n",
       "         [0., 1., 0., 1., 0., 0., 0., 0., 0.],\n",
       "         [0., 0., 1., 0., 1., 0., 0., 0., 0.],\n",
       "         [0., 0., 0., 1., 0., 1., 0., 0., 0.],\n",
       "         [0., 0., 0., 0., 1., 0., 1., 0., 0.],\n",
       "         [0., 0., 0., 0., 0., 1., 0., 1., 0.],\n",
       "         [0., 0., 0., 0., 0., 0., 1., 0., 1.],\n",
       "         [0., 0., 0., 0., 0., 0., 0., 1., 0.]]),\n",
       "  'test_ordering': array([0, 8, 2, 7, 4, 1, 6, 5, 3]),\n",
       "  'order_values': array([1.12372436, 1.12372436, 1.25      , 1.25000277, 1.25293356,\n",
       "         1.27715138, 1.27963398, 1.31018519, 1.31723539])})"
      ]
     },
     "execution_count": 7,
     "metadata": {},
     "output_type": "execute_result"
    }
   ],
   "execution_count": 7
  },
  {
   "metadata": {
    "ExecuteTime": {
     "end_time": "2025-09-21T04:18:11.322230Z",
     "start_time": "2025-09-21T04:15:57.153041Z"
    }
   },
   "cell_type": "code",
   "source": [
    "phi = .1\n",
    "# alpha = np.random.rand(N)\n",
    "alpha = np.ones(N)\n",
    "result = compare_taxes(alpha, phi, g, \"pivotal\")\n",
    "alpha, result"
   ],
   "id": "f41b19e1c3a1a6e7",
   "outputs": [
    {
     "name": "stdout",
     "output_type": "stream",
     "text": [
      "# Positive perms find: 362880 (0, 1, 2, 3, 4, 5, 6, 7, 8)\n",
      "# Negative perms find: 0 None\n"
     ]
    },
    {
     "data": {
      "text/plain": [
       "(array([1., 1., 1., 1., 1., 1., 1., 1., 1.]),\n",
       " {'opt': np.float64(0.09213460759423986),\n",
       "  'optimal_rank': [(0, 8, 3, 5, 1, 7, 2, 6, 4),\n",
       "   (0, 8, 3, 5, 1, 7, 6, 2, 4),\n",
       "   (0, 8, 3, 5, 7, 1, 2, 6, 4),\n",
       "   (0, 8, 3, 5, 7, 1, 6, 2, 4),\n",
       "   (0, 8, 5, 3, 1, 7, 2, 6, 4),\n",
       "   (0, 8, 5, 3, 1, 7, 6, 2, 4),\n",
       "   (0, 8, 5, 3, 7, 1, 2, 6, 4),\n",
       "   (0, 8, 5, 3, 7, 1, 6, 2, 4),\n",
       "   (0, 8, 5, 7, 3, 1, 2, 6, 4),\n",
       "   (0, 8, 5, 7, 3, 1, 6, 2, 4),\n",
       "   (8, 0, 3, 1, 5, 7, 2, 6, 4),\n",
       "   (8, 0, 3, 1, 5, 7, 6, 2, 4),\n",
       "   (8, 0, 3, 5, 1, 7, 2, 6, 4),\n",
       "   (8, 0, 3, 5, 1, 7, 6, 2, 4),\n",
       "   (8, 0, 3, 5, 7, 1, 2, 6, 4),\n",
       "   (8, 0, 3, 5, 7, 1, 6, 2, 4),\n",
       "   (8, 0, 5, 3, 1, 7, 2, 6, 4),\n",
       "   (8, 0, 5, 3, 1, 7, 6, 2, 4),\n",
       "   (8, 0, 5, 3, 7, 1, 2, 6, 4),\n",
       "   (8, 0, 5, 3, 7, 1, 6, 2, 4),\n",
       "   (8, 0, 5, 7, 3, 1, 2, 6, 4),\n",
       "   (8, 0, 5, 7, 3, 1, 6, 2, 4)],\n",
       "  'test': np.float64(0.08614719909428581),\n",
       "  'seq_tax_by_test': array([ 0.02802773,  0.0157797 ,  0.01053664,  0.00481551, -0.03612839,\n",
       "          0.00881197,  0.01049696,  0.01577935,  0.02802773]),\n",
       "  'network': array([[0., 1., 0., 0., 0., 0., 0., 0., 0.],\n",
       "         [1., 0., 1., 0., 0., 0., 0., 0., 0.],\n",
       "         [0., 1., 0., 1., 0., 0., 0., 0., 0.],\n",
       "         [0., 0., 1., 0., 1., 0., 0., 0., 0.],\n",
       "         [0., 0., 0., 1., 0., 1., 0., 0., 0.],\n",
       "         [0., 0., 0., 0., 1., 0., 1., 0., 0.],\n",
       "         [0., 0., 0., 0., 0., 1., 0., 1., 0.],\n",
       "         [0., 0., 0., 0., 0., 0., 1., 0., 1.],\n",
       "         [0., 0., 0., 0., 0., 0., 0., 1., 0.]]),\n",
       "  'test_ordering': array([0, 8, 1, 7, 2, 6, 5, 3, 4]),\n",
       "  'pivotal_tax': array([-0.00877134, -0.02777655, -0.03436066, -0.03587137, -0.03612839,\n",
       "         -0.03587137, -0.03436066, -0.02777655, -0.00877134])})"
      ]
     },
     "execution_count": 8,
     "metadata": {},
     "output_type": "execute_result"
    }
   ],
   "execution_count": 8
  },
  {
   "metadata": {
    "ExecuteTime": {
     "end_time": "2025-09-21T01:37:27.704005Z",
     "start_time": "2025-09-21T01:37:27.641277Z"
    }
   },
   "cell_type": "code",
   "source": [
    "phi = .1\n",
    "alpha = np.asarray([0.12220832, 0.4598933 , 0.71174519, 0.84248965, 0.07654302,\n",
    "        0.00666103, 0.89555622, 0.38269483])\n",
    "result = compare_taxes(alpha, phi, g, \"pivotal\")\n",
    "alpha, result"
   ],
   "id": "1aa4949e342e3812",
   "outputs": [
    {
     "ename": "ValueError",
     "evalue": "matmul: Input operand 1 has a mismatch in its core dimension 0, with gufunc signature (n?,k),(k,m?)->(n?,m?) (size 8 is different from 9)",
     "output_type": "error",
     "traceback": [
      "\u001B[31m---------------------------------------------------------------------------\u001B[39m",
      "\u001B[31mValueError\u001B[39m                                Traceback (most recent call last)",
      "\u001B[36mCell\u001B[39m\u001B[36m \u001B[39m\u001B[32mIn[5]\u001B[39m\u001B[32m, line 4\u001B[39m\n\u001B[32m      1\u001B[39m phi = \u001B[32m.1\u001B[39m\n\u001B[32m      2\u001B[39m alpha = np.asarray([\u001B[32m0.12220832\u001B[39m, \u001B[32m0.4598933\u001B[39m , \u001B[32m0.71174519\u001B[39m, \u001B[32m0.84248965\u001B[39m, \u001B[32m0.07654302\u001B[39m,\n\u001B[32m      3\u001B[39m         \u001B[32m0.00666103\u001B[39m, \u001B[32m0.89555622\u001B[39m, \u001B[32m0.38269483\u001B[39m])\n\u001B[32m----> \u001B[39m\u001B[32m4\u001B[39m result = \u001B[43mcompare_taxes\u001B[49m\u001B[43m(\u001B[49m\u001B[43malpha\u001B[49m\u001B[43m,\u001B[49m\u001B[43m \u001B[49m\u001B[43mphi\u001B[49m\u001B[43m,\u001B[49m\u001B[43m \u001B[49m\u001B[43mg\u001B[49m\u001B[43m,\u001B[49m\u001B[43m \u001B[49m\u001B[33;43m\"\u001B[39;49m\u001B[33;43mpivotal\u001B[39;49m\u001B[33;43m\"\u001B[39;49m\u001B[43m)\u001B[49m\n\u001B[32m      5\u001B[39m alpha, result\n",
      "\u001B[36mFile \u001B[39m\u001B[32mD:\\Users\\lenovo\\PycharmProjects\\sequential-voluntary-participation\\experiment.py:65\u001B[39m, in \u001B[36mcompare_taxes\u001B[39m\u001B[34m(alpha, phi, g, test_type)\u001B[39m\n\u001B[32m     63\u001B[39m \u001B[38;5;28;01mdef\u001B[39;00m\u001B[38;5;250m \u001B[39m\u001B[34mcompare_taxes\u001B[39m(alpha: np.ndarray, phi: \u001B[38;5;28mfloat\u001B[39m, g: np.ndarray, test_type: \u001B[38;5;28mstr\u001B[39m = \u001B[33m\"\u001B[39m\u001B[33mgreedy\u001B[39m\u001B[33m\"\u001B[39m) -> Dict[\u001B[38;5;28mstr\u001B[39m, np.ndarray]:\n\u001B[32m     64\u001B[39m     game = LinearQuadraticGame(alpha=alpha, phi=phi, g=g)\n\u001B[32m---> \u001B[39m\u001B[32m65\u001B[39m     max_tax, max_tax_perm = \u001B[43mgame\u001B[49m\u001B[43m.\u001B[49m\u001B[43mfind_optimal_ranking_exhaustive\u001B[49m\u001B[43m(\u001B[49m\u001B[43m)\u001B[49m\n\u001B[32m     66\u001B[39m     \u001B[38;5;28;01mif\u001B[39;00m test_type == \u001B[33m\"\u001B[39m\u001B[33mgreedy\u001B[39m\u001B[33m\"\u001B[39m:\n\u001B[32m     67\u001B[39m         test_fields = get_greedy_ordering(game)\n",
      "\u001B[36mFile \u001B[39m\u001B[32mD:\\Users\\lenovo\\PycharmProjects\\sequential-voluntary-participation\\linear_quadratic.py:69\u001B[39m, in \u001B[36mLinearQuadraticGame.find_optimal_ranking_exhaustive\u001B[39m\u001B[34m(self)\u001B[39m\n\u001B[32m     67\u001B[39m positive_perms, negative_perms = [], []\n\u001B[32m     68\u001B[39m \u001B[38;5;28;01mfor\u001B[39;00m perm \u001B[38;5;129;01min\u001B[39;00m itertools.permutations(\u001B[38;5;28mrange\u001B[39m(\u001B[38;5;28mself\u001B[39m.num_agents)):\n\u001B[32m---> \u001B[39m\u001B[32m69\u001B[39m     total_tax = \u001B[38;5;28;43mself\u001B[39;49m\u001B[43m.\u001B[49m\u001B[43mequilibrium_tax\u001B[49m\u001B[43m(\u001B[49m\u001B[43mmechanism\u001B[49m\u001B[43m=\u001B[49m\u001B[33;43m\"\u001B[39;49m\u001B[33;43msequential\u001B[39;49m\u001B[33;43m\"\u001B[39;49m\u001B[43m,\u001B[49m\u001B[43m \u001B[49m\u001B[43mordering\u001B[49m\u001B[43m=\u001B[49m\u001B[43mperm\u001B[49m\u001B[43m)\u001B[49m.sum()\n\u001B[32m     70\u001B[39m     \u001B[38;5;28;01mif\u001B[39;00m total_tax > max_tax + \u001B[32m1e-15\u001B[39m:\n\u001B[32m     71\u001B[39m         max_tax, max_tax_perm = total_tax, [perm]\n",
      "\u001B[36mFile \u001B[39m\u001B[32mD:\\Users\\lenovo\\PycharmProjects\\sequential-voluntary-participation\\linear_quadratic.py:47\u001B[39m, in \u001B[36mLinearQuadraticGame.equilibrium_tax\u001B[39m\u001B[34m(self, mechanism, ordering)\u001B[39m\n\u001B[32m     40\u001B[39m \u001B[38;5;250m\u001B[39m\u001B[33;03m\"\"\"\u001B[39;00m\n\u001B[32m     41\u001B[39m \u001B[33;03mThe returned value is the pivotal or sequential tax exerted on each individual.\u001B[39;00m\n\u001B[32m     42\u001B[39m \u001B[33;03mThe returned taxes are ordered in [0,1,2,...,N-1].\u001B[39;00m\n\u001B[32m     43\u001B[39m \u001B[33;03m\"ordering\" specifies the \"taxation order\" rather than the returned order.\u001B[39;00m\n\u001B[32m     44\u001B[39m \u001B[33;03mThis is a positive value as opposed to the negative \"subsidy\" used in the paper.\u001B[39;00m\n\u001B[32m     45\u001B[39m \u001B[33;03m\"\"\"\u001B[39;00m\n\u001B[32m     46\u001B[39m N = \u001B[38;5;28mself\u001B[39m.g.shape[\u001B[32m0\u001B[39m]\n\u001B[32m---> \u001B[39m\u001B[32m47\u001B[39m x_social = \u001B[38;5;28;43mself\u001B[39;49m\u001B[43m.\u001B[49m\u001B[43mcompute_social_optimum\u001B[49m\u001B[43m(\u001B[49m\u001B[43m)\u001B[49m\n\u001B[32m     48\u001B[39m u_social = \u001B[38;5;28mself\u001B[39m.compute_utility(x_social)\n\u001B[32m     49\u001B[39m u_ic = [\u001B[38;5;28;01mNone\u001B[39;00m \u001B[38;5;28;01mfor\u001B[39;00m _ \u001B[38;5;129;01min\u001B[39;00m \u001B[38;5;28mrange\u001B[39m(N)]\n",
      "\u001B[36mFile \u001B[39m\u001B[32mD:\\Users\\lenovo\\PycharmProjects\\sequential-voluntary-participation\\linear_quadratic.py:27\u001B[39m, in \u001B[36mLinearQuadraticGame.compute_social_optimum\u001B[39m\u001B[34m(self)\u001B[39m\n\u001B[32m     25\u001B[39m \u001B[38;5;28;01mdef\u001B[39;00m\u001B[38;5;250m \u001B[39m\u001B[34mcompute_social_optimum\u001B[39m(\u001B[38;5;28mself\u001B[39m) -> np.ndarray:\n\u001B[32m     26\u001B[39m     N = \u001B[38;5;28mself\u001B[39m.g.shape[\u001B[32m0\u001B[39m]\n\u001B[32m---> \u001B[39m\u001B[32m27\u001B[39m     \u001B[38;5;28;01mreturn\u001B[39;00m \u001B[43mnp\u001B[49m\u001B[43m.\u001B[49m\u001B[43mlinalg\u001B[49m\u001B[43m.\u001B[49m\u001B[43minv\u001B[49m\u001B[43m(\u001B[49m\u001B[43mnp\u001B[49m\u001B[43m.\u001B[49m\u001B[43meye\u001B[49m\u001B[43m(\u001B[49m\u001B[43mN\u001B[49m\u001B[43m)\u001B[49m\u001B[43m \u001B[49m\u001B[43m-\u001B[49m\u001B[43m \u001B[49m\u001B[38;5;28;43mself\u001B[39;49m\u001B[43m.\u001B[49m\u001B[43mphi\u001B[49m\u001B[43m \u001B[49m\u001B[43m*\u001B[49m\u001B[43m \u001B[49m\u001B[43m(\u001B[49m\u001B[38;5;28;43mself\u001B[39;49m\u001B[43m.\u001B[49m\u001B[43mg\u001B[49m\u001B[43m \u001B[49m\u001B[43m+\u001B[49m\u001B[43m \u001B[49m\u001B[38;5;28;43mself\u001B[39;49m\u001B[43m.\u001B[49m\u001B[43mg\u001B[49m\u001B[43m.\u001B[49m\u001B[43mT\u001B[49m\u001B[43m)\u001B[49m\u001B[43m)\u001B[49m\u001B[43m \u001B[49m\u001B[43m@\u001B[49m\u001B[43m \u001B[49m\u001B[38;5;28;43mself\u001B[39;49m\u001B[43m.\u001B[49m\u001B[43malpha\u001B[49m\n",
      "\u001B[31mValueError\u001B[39m: matmul: Input operand 1 has a mismatch in its core dimension 0, with gufunc signature (n?,k),(k,m?)->(n?,m?) (size 8 is different from 9)"
     ]
    }
   ],
   "execution_count": 5
  },
  {
   "metadata": {
    "ExecuteTime": {
     "end_time": "2025-09-05T02:26:44.152638Z",
     "start_time": "2025-09-05T02:26:44.045022Z"
    }
   },
   "cell_type": "code",
   "source": "draw_network(g)",
   "id": "ff90b54e47381f2e",
   "outputs": [
    {
     "data": {
      "text/plain": [
       "<Figure size 640x480 with 1 Axes>"
      ],
      "image/png": "[encoded data removed]"
     },
     "metadata": {},
     "output_type": "display_data",
     "jetTransient": {
      "display_id": null
     }
    }
   ],
   "execution_count": 3
  },
  {
   "metadata": {
    "ExecuteTime": {
     "end_time": "2025-09-21T01:37:56.150793Z",
     "start_time": "2025-09-21T01:37:55.935950Z"
    }
   },
   "cell_type": "code",
   "source": "draw_network(g)",
   "id": "600723fed8940054",
   "outputs": [
    {
     "data": {
      "text/plain": [
       "<Figure size 640x480 with 1 Axes>"
      ],
      "image/png": "[encoded data removed]"
     },
     "metadata": {},
     "output_type": "display_data",
     "jetTransient": {
      "display_id": null
     }
    }
   ],
   "execution_count": 6
  },
  {
   "metadata": {
    "ExecuteTime": {
     "end_time": "2025-09-02T01:27:23.906236Z",
     "start_time": "2025-09-02T01:27:23.901945Z"
    }
   },
   "cell_type": "code",
   "source": "game = LinearQuadraticGame(alpha, phi, g)",
   "id": "5c633e91eae18d32",
   "outputs": [],
   "execution_count": 9
  },
  {
   "metadata": {
    "ExecuteTime": {
     "end_time": "2025-09-02T00:55:19.808691Z",
     "start_time": "2025-09-02T00:55:19.802280Z"
    }
   },
   "cell_type": "code",
   "source": [
    "print(\n",
    "    game.equilibrium_tax(mechanism=\"pivotal\", ordering=[5, 0, 1, 3, 4, 2]),\n",
    "    '\\n',\n",
    "    game.equilibrium_tax(mechanism=\"pivotal\", ordering=[5, 0, 3, 1, 4, 2])\n",
    ")"
   ],
   "id": "5430a6f8fcb13fd6",
   "outputs": [
    {
     "name": "stdout",
     "output_type": "stream",
     "text": [
      "[-0.04443613 -0.02972238 -0.04443613 -0.07785747 -0.00899399 -0.04469472] \n",
      " [-0.04443613 -0.02972238 -0.04443613 -0.07785747 -0.00899399 -0.04469472]\n"
     ]
    }
   ],
   "execution_count": 8
  },
  {
   "metadata": {
    "ExecuteTime": {
     "end_time": "2025-09-02T01:27:32.298169Z",
     "start_time": "2025-09-02T01:27:32.292396Z"
    }
   },
   "cell_type": "code",
   "source": [
    "print(\n",
    "    game.equilibrium_tax(mechanism=\"sequential\", ordering=[1, 2, 3, 4, 5, 0]),\n",
    "    '\\n',\n",
    "    game.equilibrium_tax(mechanism=\"sequential\", ordering=[3, 5, 4, 2, 1, 0])\n",
    ")"
   ],
   "id": "71a5cf5889cc38ba",
   "outputs": [
    {
     "name": "stdout",
     "output_type": "stream",
     "text": [
      "[-0.13888889  0.07963989  0.07769353  0.07570239  0.07366493  0.07157952] \n",
      " [-0.13888889  0.07157952  0.07366493  0.07963989  0.07570239  0.07769353]\n"
     ]
    }
   ],
   "execution_count": 10
  },
  {
   "metadata": {
    "ExecuteTime": {
     "start_time": "2025-09-04T21:29:35.166362Z"
    }
   },
   "cell_type": "code",
   "source": [
    "from tqdm.notebook import tqdm\n",
    "\n",
    "num_iterations = 1000\n",
    "for _ in tqdm(range(num_iterations)):\n",
    "    N = 8\n",
    "    edge_pr = np.random.choice([.5])\n",
    "    g = generate_random_symmetric_binary_matrix(N, edge_pr)\n",
    "    alpha = np.random.rand(N)\n",
    "    phi = 0.1\n",
    "    result = compare_taxes(alpha, phi, g, \"pivotal\")\n",
    "    assert result['opt'] >= result['test']\n",
    "    if result['opt'] > 0 > result['test']:\n",
    "        print(g)\n",
    "        break"
   ],
   "id": "d76f5529af63578d",
   "outputs": [
    {
     "data": {
      "text/plain": [
       "  0%|          | 0/1000 [00:00<?, ?it/s]"
      ],
      "application/vnd.jupyter.widget-view+json": {
       "version_major": 2,
       "version_minor": 0,
       "model_id": "e010e64285d54ccbac06f4eced2b4121"
      }
     },
     "metadata": {},
     "output_type": "display_data",
     "jetTransient": {
      "display_id": null
     }
    },
    {
     "name": "stdout",
     "output_type": "stream",
     "text": [
      "# Positive perms find: 40320 (0, 1, 2, 3, 4, 5, 6, 7)\n",
      "# Negative perms find: 0 None\n",
      "# Positive perms find: 40320 (0, 1, 2, 3, 4, 5, 6, 7)\n",
      "# Negative perms find: 0 None\n",
      "# Positive perms find: 40320 (0, 1, 2, 3, 4, 5, 6, 7)\n",
      "# Negative perms find: 0 None\n",
      "# Positive perms find: 40320 (0, 1, 2, 3, 4, 5, 6, 7)\n",
      "# Negative perms find: 0 None\n",
      "# Positive perms find: 40320 (0, 1, 2, 3, 4, 5, 6, 7)\n",
      "# Negative perms find: 0 None\n",
      "# Positive perms find: 39564 (0, 1, 2, 3, 4, 5, 6, 7)\n",
      "# Negative perms find: 756 (7, 0, 6, 3, 5, 4, 2, 1)\n",
      "# Positive perms find: 38746 (0, 1, 2, 3, 4, 5, 6, 7)\n",
      "# Negative perms find: 1574 (6, 5, 3, 1, 2, 7, 0, 4)\n",
      "# Positive perms find: 40320 (0, 1, 2, 3, 4, 5, 6, 7)\n",
      "# Negative perms find: 0 None\n",
      "# Positive perms find: 40320 (0, 1, 2, 3, 4, 5, 6, 7)\n",
      "# Negative perms find: 0 None\n",
      "# Positive perms find: 40320 (0, 1, 2, 3, 4, 5, 6, 7)\n",
      "# Negative perms find: 0 None\n",
      "# Positive perms find: 40320 (0, 1, 2, 3, 4, 5, 6, 7)\n",
      "# Negative perms find: 0 None\n",
      "# Positive perms find: 40320 (0, 1, 2, 3, 4, 5, 6, 7)\n",
      "# Negative perms find: 0 None\n",
      "# Positive perms find: 40320 (0, 1, 2, 3, 4, 5, 6, 7)\n",
      "# Negative perms find: 0 None\n",
      "# Positive perms find: 40177 (0, 1, 2, 3, 4, 5, 6, 7)\n",
      "# Negative perms find: 143 (7, 6, 2, 0, 1, 4, 5, 3)\n",
      "# Positive perms find: 38454 (0, 1, 2, 3, 4, 5, 6, 7)\n",
      "# Negative perms find: 1866 (7, 5, 4, 2, 1, 3, 0, 6)\n",
      "# Positive perms find: 40320 (0, 1, 2, 3, 4, 5, 6, 7)\n",
      "# Negative perms find: 0 None\n",
      "# Positive perms find: 40320 (0, 1, 2, 3, 4, 5, 6, 7)\n",
      "# Negative perms find: 0 None\n",
      "# Positive perms find: 40320 (0, 1, 2, 3, 4, 5, 6, 7)\n",
      "# Negative perms find: 0 None\n",
      "# Positive perms find: 40320 (0, 1, 2, 3, 4, 5, 6, 7)\n",
      "# Negative perms find: 0 None\n",
      "# Positive perms find: 40320 (0, 1, 2, 3, 4, 5, 6, 7)\n",
      "# Negative perms find: 0 None\n",
      "# Positive perms find: 39159 (0, 1, 2, 3, 4, 5, 6, 7)\n",
      "# Negative perms find: 1161 (7, 6, 5, 0, 2, 3, 1, 4)\n",
      "# Positive perms find: 40320 (0, 1, 2, 3, 4, 5, 6, 7)\n",
      "# Negative perms find: 0 None\n",
      "# Positive perms find: 0 None\n",
      "# Negative perms find: 40320 (7, 6, 5, 4, 3, 2, 1, 0)\n",
      "# Positive perms find: 40320 (0, 1, 2, 3, 4, 5, 6, 7)\n",
      "# Negative perms find: 0 None\n",
      "# Positive perms find: 39129 (0, 1, 2, 3, 4, 5, 6, 7)\n",
      "# Negative perms find: 1191 (7, 2, 0, 6, 5, 3, 4, 1)\n",
      "# Positive perms find: 40320 (0, 1, 2, 3, 4, 5, 6, 7)\n",
      "# Negative perms find: 0 None\n",
      "# Positive perms find: 38928 (0, 1, 2, 3, 4, 5, 6, 7)\n",
      "# Negative perms find: 1392 (6, 5, 4, 2, 7, 1, 3, 0)\n",
      "# Positive perms find: 40320 (0, 1, 2, 3, 4, 5, 6, 7)\n",
      "# Negative perms find: 0 None\n",
      "# Positive perms find: 40320 (0, 1, 2, 3, 4, 5, 6, 7)\n",
      "# Negative perms find: 0 None\n",
      "# Positive perms find: 40320 (0, 1, 2, 3, 4, 5, 6, 7)\n",
      "# Negative perms find: 0 None\n",
      "# Positive perms find: 40320 (0, 1, 2, 3, 4, 5, 6, 7)\n",
      "# Negative perms find: 0 None\n",
      "# Positive perms find: 40320 (0, 1, 2, 3, 4, 5, 6, 7)\n",
      "# Negative perms find: 0 None\n",
      "# Positive perms find: 40320 (0, 1, 2, 3, 4, 5, 6, 7)\n",
      "# Negative perms find: 0 None\n",
      "# Positive perms find: 39704 (0, 1, 2, 3, 4, 5, 6, 7)\n",
      "# Negative perms find: 616 (7, 6, 5, 4, 3, 2, 1, 0)\n",
      "# Positive perms find: 40320 (0, 1, 2, 3, 4, 5, 6, 7)\n",
      "# Negative perms find: 0 None\n",
      "# Positive perms find: 40320 (0, 1, 2, 3, 4, 5, 6, 7)\n",
      "# Negative perms find: 0 None\n",
      "# Positive perms find: 40320 (0, 1, 2, 3, 4, 5, 6, 7)\n",
      "# Negative perms find: 0 None\n",
      "# Positive perms find: 40320 (0, 1, 2, 3, 4, 5, 6, 7)\n",
      "# Negative perms find: 0 None\n",
      "# Positive perms find: 40320 (0, 1, 2, 3, 4, 5, 6, 7)\n",
      "# Negative perms find: 0 None\n",
      "# Positive perms find: 40320 (0, 1, 2, 3, 4, 5, 6, 7)\n",
      "# Negative perms find: 0 None\n",
      "# Positive perms find: 37496 (0, 1, 2, 3, 4, 5, 6, 7)\n",
      "# Negative perms find: 2824 (6, 7, 3, 2, 1, 0, 5, 4)\n",
      "# Positive perms find: 40320 (0, 1, 2, 3, 4, 5, 6, 7)\n",
      "# Negative perms find: 0 None\n",
      "# Positive perms find: 40320 (0, 1, 2, 3, 4, 5, 6, 7)\n",
      "# Negative perms find: 0 None\n",
      "# Positive perms find: 40320 (0, 1, 2, 3, 4, 5, 6, 7)\n",
      "# Negative perms find: 0 None\n",
      "# Positive perms find: 40320 (0, 1, 2, 3, 4, 5, 6, 7)\n",
      "# Negative perms find: 0 None\n",
      "# Positive perms find: 40042 (0, 1, 2, 3, 4, 5, 6, 7)\n",
      "# Negative perms find: 278 (7, 6, 5, 1, 4, 3, 2, 0)\n",
      "# Positive perms find: 40320 (0, 1, 2, 3, 4, 5, 6, 7)\n",
      "# Negative perms find: 0 None\n",
      "# Positive perms find: 39948 (0, 1, 2, 3, 4, 5, 6, 7)\n",
      "# Negative perms find: 372 (7, 5, 6, 3, 2, 0, 4, 1)\n",
      "# Positive perms find: 33024 (0, 1, 2, 3, 4, 5, 6, 7)\n",
      "# Negative perms find: 7296 (7, 6, 5, 3, 2, 1, 0, 4)\n",
      "# Positive perms find: 40320 (0, 1, 2, 3, 4, 5, 6, 7)\n",
      "# Negative perms find: 0 None\n",
      "# Positive perms find: 0 None\n",
      "# Negative perms find: 40320 (7, 6, 5, 4, 3, 2, 1, 0)\n",
      "# Positive perms find: 40320 (0, 1, 2, 3, 4, 5, 6, 7)\n",
      "# Negative perms find: 0 None\n",
      "# Positive perms find: 40320 (0, 1, 2, 3, 4, 5, 6, 7)\n",
      "# Negative perms find: 0 None\n",
      "# Positive perms find: 38441 (0, 1, 2, 3, 4, 5, 6, 7)\n",
      "# Negative perms find: 1879 (7, 6, 5, 4, 2, 1, 3, 0)\n",
      "# Positive perms find: 40320 (0, 1, 2, 3, 4, 5, 6, 7)\n",
      "# Negative perms find: 0 None\n",
      "# Positive perms find: 40320 (0, 1, 2, 3, 4, 5, 6, 7)\n",
      "# Negative perms find: 0 None\n",
      "# Positive perms find: 40320 (0, 1, 2, 3, 4, 5, 6, 7)\n",
      "# Negative perms find: 0 None\n",
      "# Positive perms find: 40320 (0, 1, 2, 3, 4, 5, 6, 7)\n",
      "# Negative perms find: 0 None\n",
      "# Positive perms find: 37719 (0, 1, 2, 3, 4, 5, 6, 7)\n",
      "# Negative perms find: 2601 (7, 6, 1, 4, 3, 5, 2, 0)\n",
      "# Positive perms find: 40320 (0, 1, 2, 3, 4, 5, 6, 7)\n",
      "# Negative perms find: 0 None\n",
      "# Positive perms find: 40320 (0, 1, 2, 3, 4, 5, 6, 7)\n",
      "# Negative perms find: 0 None\n",
      "# Positive perms find: 40320 (0, 1, 2, 3, 4, 5, 6, 7)\n",
      "# Negative perms find: 0 None\n",
      "# Positive perms find: 40320 (0, 1, 2, 3, 4, 5, 6, 7)\n",
      "# Negative perms find: 0 None\n",
      "# Positive perms find: 40320 (0, 1, 2, 3, 4, 5, 6, 7)\n",
      "# Negative perms find: 0 None\n",
      "# Positive perms find: 40320 (0, 1, 2, 3, 4, 5, 6, 7)\n",
      "# Negative perms find: 0 None\n",
      "# Positive perms find: 40320 (0, 1, 2, 3, 4, 5, 6, 7)\n",
      "# Negative perms find: 0 None\n",
      "# Positive perms find: 40320 (0, 1, 2, 3, 4, 5, 6, 7)\n",
      "# Negative perms find: 0 None\n",
      "# Positive perms find: 39288 (0, 1, 2, 3, 4, 5, 6, 7)\n",
      "# Negative perms find: 1032 (6, 5, 0, 7, 2, 3, 1, 4)\n",
      "# Positive perms find: 40320 (0, 1, 2, 3, 4, 5, 6, 7)\n",
      "# Negative perms find: 0 None\n",
      "# Positive perms find: 40320 (0, 1, 2, 3, 4, 5, 6, 7)\n",
      "# Negative perms find: 0 None\n",
      "# Positive perms find: 31472 (0, 1, 2, 3, 4, 5, 6, 7)\n",
      "# Negative perms find: 8848 (7, 4, 3, 6, 5, 2, 1, 0)\n",
      "# Positive perms find: 40320 (0, 1, 2, 3, 4, 5, 6, 7)\n",
      "# Negative perms find: 0 None\n",
      "# Positive perms find: 40320 (0, 1, 2, 3, 4, 5, 6, 7)\n",
      "# Negative perms find: 0 None\n",
      "# Positive perms find: 40320 (0, 1, 2, 3, 4, 5, 6, 7)\n",
      "# Negative perms find: 0 None\n",
      "# Positive perms find: 40320 (0, 1, 2, 3, 4, 5, 6, 7)\n",
      "# Negative perms find: 0 None\n",
      "# Positive perms find: 40320 (0, 1, 2, 3, 4, 5, 6, 7)\n",
      "# Negative perms find: 0 None\n",
      "# Positive perms find: 40320 (0, 1, 2, 3, 4, 5, 6, 7)\n",
      "# Negative perms find: 0 None\n",
      "# Positive perms find: 40320 (0, 1, 2, 3, 4, 5, 6, 7)\n",
      "# Negative perms find: 0 None\n",
      "# Positive perms find: 40320 (0, 1, 2, 3, 4, 5, 6, 7)\n",
      "# Negative perms find: 0 None\n",
      "# Positive perms find: 40320 (0, 1, 2, 3, 4, 5, 6, 7)\n",
      "# Negative perms find: 0 None\n",
      "# Positive perms find: 40320 (0, 1, 2, 3, 4, 5, 6, 7)\n",
      "# Negative perms find: 0 None\n",
      "# Positive perms find: 40320 (0, 1, 2, 3, 4, 5, 6, 7)\n",
      "# Negative perms find: 0 None\n",
      "# Positive perms find: 40320 (0, 1, 2, 3, 4, 5, 6, 7)\n",
      "# Negative perms find: 0 None\n",
      "# Positive perms find: 40320 (0, 1, 2, 3, 4, 5, 6, 7)\n",
      "# Negative perms find: 0 None\n",
      "# Positive perms find: 40320 (0, 1, 2, 3, 4, 5, 6, 7)\n",
      "# Negative perms find: 0 None\n",
      "# Positive perms find: 40320 (0, 1, 2, 3, 4, 5, 6, 7)\n",
      "# Negative perms find: 0 None\n",
      "# Positive perms find: 40320 (0, 1, 2, 3, 4, 5, 6, 7)\n",
      "# Negative perms find: 0 None\n"
     ]
    }
   ],
   "execution_count": null
  },
  {
   "metadata": {},
   "cell_type": "code",
   "outputs": [],
   "execution_count": null,
   "source": "",
   "id": "6273050fc65b86e2"
  }
 ],
 "metadata": {
  "kernelspec": {
   "display_name": "Python 3",
   "language": "python",
   "name": "python3"
  },
  "language_info": {
   "codemirror_mode": {
    "name": "ipython",
    "version": 2
   },
   "file_extension": ".py",
   "mimetype": "text/x-python",
   "name": "python",
   "nbconvert_exporter": "python",
   "pygments_lexer": "ipython2",
   "version": "2.7.6"
  }
 },
 "nbformat": 4,
 "nbformat_minor": 5
}
